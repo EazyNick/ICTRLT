{
 "cells": [
  {
   "cell_type": "code",
   "execution_count": 1,
   "metadata": {},
   "outputs": [
    {
     "name": "stderr",
     "output_type": "stream",
     "text": [
      "[*********************100%%**********************]  1 of 1 completed\n"
     ]
    },
    {
     "name": "stdout",
     "output_type": "stream",
     "text": [
      "Data saved to data_csv\\samsung_stock_data.csv\n"
     ]
    },
    {
     "name": "stderr",
     "output_type": "stream",
     "text": [
      "[*********************100%%**********************]  1 of 1 completed\n",
      "[*********************100%%**********************]  1 of 1 completed\n"
     ]
    },
    {
     "name": "stdout",
     "output_type": "stream",
     "text": [
      "Data saved to data_csv\\samsung_stock_minute_data.csv\n"
     ]
    }
   ],
   "source": [
    "import yfinance as yf\n",
    "import pandas as pd\n",
    "import os\n",
    "from datetime import datetime, timedelta\n",
    "\n",
    "# Set up project directory\n",
    "project_dir = 'data_csv'\n",
    "data_dir = os.path.join(project_dir, '')\n",
    "os.makedirs(data_dir, exist_ok=True)\n",
    "\n",
    "def get_stock_data(ticker, start_date, end_date, interval='1d'):\n",
    "    \"\"\"\n",
    "    주어진 주식 코드와 기간에 해당하는 주식 데이터를 받아오는 함수.\n",
    "\n",
    "    Args:\n",
    "        ticker (str): 주식 코드.\n",
    "        start_date (str): 데이터의 시작 날짜 (YYYY-MM-DD 형식).\n",
    "        end_date (str): 데이터의 종료 날짜 (YYYY-MM-DD 형식).\n",
    "        interval (str): 데이터 간격 (1d, 1m 등).\n",
    "\n",
    "    Returns:\n",
    "        pd.DataFrame: 주식 데이터 프레임.\n",
    "    \"\"\"\n",
    "    data = yf.download(ticker, start=start_date, end=end_date, interval=interval)\n",
    "    data = data[['Close', 'Volume']]  # 종가 및 거래량 데이터 사용\n",
    "    data = data.reset_index()\n",
    "    data.columns = ['Date', 'Close', 'Volume']\n",
    "    \n",
    "    # 이동평균선 데이터 계산\n",
    "    ma_columns = {}\n",
    "    for ma in [5, 10, 15, 20, 25, 30, 35, 40, 45, 50, 60] + list(range(70, 710, 10)):\n",
    "        ma_columns[f'SMA_{ma}'] = data['Close'].rolling(window=ma).mean()\n",
    "        ma_columns[f'VMA_{ma}'] = data['Volume'].rolling(window=ma).mean()\n",
    "    \n",
    "    ma_df = pd.DataFrame(ma_columns)\n",
    "    data = pd.concat([data, ma_df], axis=1)\n",
    "    \n",
    "    # 추가 데이터 계산\n",
    "    data['365D_High'] = data['Close'].rolling(window=365).max()\n",
    "    data['365D_Low'] = data['Close'].rolling(window=365).min()\n",
    "    data['180D_High'] = data['Close'].rolling(window=180).max()\n",
    "    data['180D_Low'] = data['Close'].rolling(window=180).min()\n",
    "    data['90D_High'] = data['Close'].rolling(window=90).max()\n",
    "    data['90D_Low'] = data['Close'].rolling(window=90).min()\n",
    "    data['30D_High'] = data['Close'].rolling(window=30).max()\n",
    "    data['30D_Low'] = data['Close'].rolling(window=30).min()\n",
    "    data['AllTime_High'] = data['Close'].cummax()\n",
    "    data['AllTime_Low'] = data['Close'].cummin()\n",
    "    \n",
    "    return data\n",
    "\n",
    "def get_minute_stock_data(ticker, start_date, end_date):\n",
    "    \"\"\"\n",
    "    1분봉 주식 데이터를 7일 단위로 받아오는 함수.\n",
    "\n",
    "    Args:\n",
    "        ticker (str): 주식 코드.\n",
    "        start_date (str): 데이터의 시작 날짜 (YYYY-MM-DD 형식).\n",
    "        end_date (str): 데이터의 종료 날짜 (YYYY-MM-DD 형식).\n",
    "\n",
    "    Returns:\n",
    "        pd.DataFrame: 주식 데이터 프레임.\n",
    "    \"\"\"\n",
    "    all_data = []\n",
    "    start = datetime.strptime(start_date, '%Y-%m-%d')\n",
    "    end = datetime.strptime(end_date, '%Y-%m-%d')\n",
    "    delta = timedelta(days=7)\n",
    "\n",
    "    while start < end:\n",
    "        temp_end = min(start + delta, end)\n",
    "        data = yf.download(ticker, start=start, end=temp_end, interval='1m')\n",
    "        all_data.append(data)\n",
    "        start = temp_end\n",
    "\n",
    "    data = pd.concat(all_data)\n",
    "    data = data[['Close', 'Volume']]  # 종가 및 거래량 데이터 사용\n",
    "    data = data.reset_index()\n",
    "    data.columns = ['Date', 'Close', 'Volume']\n",
    "    \n",
    "    # 이동평균선 데이터 계산\n",
    "    ma_columns = {}\n",
    "    for ma in [5, 10, 15, 20, 25, 30, 35, 40, 45, 50, 60] + list(range(70, 710, 10)):\n",
    "        ma_columns[f'SMA_{ma}'] = data['Close'].rolling(window=ma).mean()\n",
    "        ma_columns[f'VMA_{ma}'] = data['Volume'].rolling(window=ma).mean()\n",
    "    \n",
    "    ma_df = pd.DataFrame(ma_columns)\n",
    "    data = pd.concat([data, ma_df], axis=1)\n",
    "    \n",
    "    return data\n",
    "\n",
    "def save_data_to_csv(data, filename):\n",
    "    \"\"\"\n",
    "    주어진 데이터를 CSV 파일로 저장하는 함수.\n",
    "\n",
    "    Args:\n",
    "        data (pd.DataFrame): 저장할 데이터 프레임.\n",
    "        filename (str): 저장할 CSV 파일의 이름.\n",
    "    \"\"\"\n",
    "    data.to_csv(filename, index=False)\n",
    "    print(f'Data saved to {filename}')\n",
    "\n",
    "# Example usage\n",
    "ticker = '005930.KS'\n",
    "start_date = '2004-01-01'\n",
    "end_date = '2024-07-14'\n",
    "filename = os.path.join(data_dir, 'samsung_stock_data.csv')\n",
    "\n",
    "# 일봉 데이터 가져오기\n",
    "data = get_stock_data(ticker, start_date, end_date, interval='1d')\n",
    "save_data_to_csv(data, filename)\n",
    "\n",
    "# 1분봉 데이터 가져오기 (최대 7일 범위 내)\n",
    "minute_data = get_minute_stock_data(ticker, '2024-07-01', '2024-07-14')\n",
    "minute_filename = os.path.join(data_dir, 'samsung_stock_minute_data.csv')\n",
    "save_data_to_csv(minute_data, minute_filename)\n"
   ]
  }
 ],
 "metadata": {
  "kernelspec": {
   "display_name": "base",
   "language": "python",
   "name": "python3"
  },
  "language_info": {
   "codemirror_mode": {
    "name": "ipython",
    "version": 3
   },
   "file_extension": ".py",
   "mimetype": "text/x-python",
   "name": "python",
   "nbconvert_exporter": "python",
   "pygments_lexer": "ipython3",
   "version": "3.11.7"
  },
  "orig_nbformat": 4
 },
 "nbformat": 4,
 "nbformat_minor": 2
}
