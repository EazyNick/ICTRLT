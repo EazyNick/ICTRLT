{
 "cells": [
  {
   "cell_type": "code",
   "execution_count": 1,
   "metadata": {},
   "outputs": [
    {
     "name": "stderr",
     "output_type": "stream",
     "text": [
      "[*********************100%%**********************]  1 of 1 completed"
     ]
    },
    {
     "name": "stdout",
     "output_type": "stream",
     "text": [
      "Data saved to data_csv\\samsung_stock_data.csv\n"
     ]
    },
    {
     "name": "stderr",
     "output_type": "stream",
     "text": [
      "\n"
     ]
    }
   ],
   "source": [
    "# Install required libraries\n",
    "# !pip install yfinance pandas\n",
    "\n",
    "import yfinance as yf\n",
    "import pandas as pd\n",
    "import os\n",
    "\n",
    "# Set up project directory\n",
    "project_dir = 'data_csv'\n",
    "data_dir = os.path.join(project_dir, '')\n",
    "os.makedirs(data_dir, exist_ok=True)\n",
    "\n",
    "def get_stock_data(ticker, start_date, end_date):\n",
    "    \"\"\"\n",
    "    주어진 주식 코드와 기간에 해당하는 주식 데이터를 받아오는 함수.\n",
    "\n",
    "    Args:\n",
    "        ticker (str): 주식 코드.\n",
    "        start_date (str): 데이터의 시작 날짜 (YYYY-MM-DD 형식).\n",
    "        end_date (str): 데이터의 종료 날짜 (YYYY-MM-DD 형식).\n",
    "\n",
    "    Returns:\n",
    "        pd.DataFrame: 주식 데이터 프레임.\n",
    "    \"\"\"\n",
    "    data = yf.download(ticker, start=start_date, end=end_date)\n",
    "    data = data[['Close']]  # 종가 데이터만 사용\n",
    "    data = data.reset_index()\n",
    "    data.columns = ['Date', 'Close']\n",
    "    return data\n",
    "\n",
    "def save_data_to_csv(data, filename):\n",
    "    \"\"\"\n",
    "    주어진 데이터를 CSV 파일로 저장하는 함수.\n",
    "\n",
    "    Args:\n",
    "        data (pd.DataFrame): 저장할 데이터 프레임.\n",
    "        filename (str): 저장할 CSV 파일의 이름.\n",
    "    \"\"\"\n",
    "    data.to_csv(filename, index=False)\n",
    "    print(f'Data saved to {filename}')\n",
    "\n",
    "# Example usage\n",
    "ticker = '005930.KS'\n",
    "start_date = '2003-01-01'\n",
    "end_date = '2024-07-14'\n",
    "filename = os.path.join(data_dir, 'samsung_stock_data.csv')\n",
    "\n",
    "data = get_stock_data(ticker, start_date, end_date)\n",
    "save_data_to_csv(data, filename)\n"
   ]
  }
 ],
 "metadata": {
  "kernelspec": {
   "display_name": "base",
   "language": "python",
   "name": "python3"
  },
  "language_info": {
   "codemirror_mode": {
    "name": "ipython",
    "version": 3
   },
   "file_extension": ".py",
   "mimetype": "text/x-python",
   "name": "python",
   "nbconvert_exporter": "python",
   "pygments_lexer": "ipython3",
   "version": "3.11.7"
  },
  "orig_nbformat": 4
 },
 "nbformat": 4,
 "nbformat_minor": 2
}
